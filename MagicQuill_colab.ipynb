{
  "cells": [
    {
      "cell_type": "code",
      "execution_count": null,
      "metadata": {
        "id": "XxkQoUovJuNS"
      },
      "outputs": [],
      "source": [
        "import os\n",
        "if not os.path.exists(\"/content/MagicQuill\"):\n",
        "  !git clone https://github.com/HydeYYHH/MagicQuill\n",
        "  !pip install torchsde controlnet_aux\n",
        "%cd /content/MagicQuill\n",
        "if not os.path.exists('/content/MagicQuill/Grounded-Segment-Anything'):\n",
        "    !git clone https://github.com/IDEA-Research/Grounded-Segment-Anything\n",
        "    %cd Grounded-Segment-Anything\n",
        "    !pip install -r requirements.txt\n",
        "    !pip install groundingdino-py\n",
        "%cd /content/MagicQuill\n",
        "!python /content/MagicQuill/download_models.py"
      ]
    },
    {
      "cell_type": "code",
      "execution_count": 3,
      "metadata": {
        "id": "i96Wf7jHJ2Sx"
      },
      "outputs": [],
      "source": [
        "%cd /content/MagicQuill\n",
        "!python /content/MagicQuill/gradio_run.py"
      ]
    }
  ],
  "metadata": {
    "accelerator": "GPU",
    "colab": {
      "gpuType": "T4",
      "provenance": []
    },
    "kernelspec": {
      "display_name": "Python 3",
      "name": "python3"
    },
    "language_info": {
      "name": "python"
    }
  },
  "nbformat": 4,
  "nbformat_minor": 0
}
