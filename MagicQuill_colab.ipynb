{
  "nbformat": 4,
  "nbformat_minor": 0,
  "metadata": {
    "colab": {
      "provenance": [],
      "gpuType": "T4"
    },
    "kernelspec": {
      "name": "python3",
      "display_name": "Python 3"
    },
    "language_info": {
      "name": "python"
    },
    "accelerator": "GPU"
  },
  "cells": [
    {
      "cell_type": "code",
      "execution_count": null,
      "metadata": {
        "id": "OuwT2nyAvlg9"
      },
      "outputs": [],
      "source": [
        "import os\n",
        "if not os.path.exists(\"/content/MagicQuill\"):\n",
        "  !git clone https://github.com/HydeYYHH/MagicQuill\n",
        "  !pip install torchsde controlnet_aux\n",
        "%cd /content/MagicQuill\n",
        "if not os.path.exists('/content/MagicQuill/Grounded-Segment-Anything'):\n",
        "    !git clone https://github.com/IDEA-Research/Grounded-Segment-Anything\n",
        "    %cd Grounded-Segment-Anything\n",
        "    !pip install -q -r requirements.txt\n",
        "    !pip install groundingdino-py --quiet\n",
        "    %cd Grounded-Segment-Anything/segment_anything\n",
        "    !pip install -q .\n",
        "    %cd Grounded-Segment-Anything\n",
        "%cd /content/MagicQuill\n",
        "!python /content/MagicQuill/download_models.py"
      ]
    },
    {
      "cell_type": "code",
      "source": [
        "%cd /content/MagicQuill\n",
        "!python /content/MagicQuill/gradio_run.py"
      ],
      "metadata": {
        "id": "blG_X6Alvp4q"
      },
      "execution_count": 16,
      "outputs": []
    }
  ]
}